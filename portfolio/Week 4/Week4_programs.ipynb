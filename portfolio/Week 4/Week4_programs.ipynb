{
 "cells": [
  {
   "cell_type": "code",
   "execution_count": 14,
   "id": "06783304-3ca6-42c4-a86c-4bb7ecbff2d0",
   "metadata": {},
   "outputs": [
    {
     "name": "stdin",
     "output_type": "stream",
     "text": [
      "Enter an integer: 80\n"
     ]
    },
    {
     "name": "stdout",
     "output_type": "stream",
     "text": [
      "The number 80 is True in the range 0 to 100.\n"
     ]
    }
   ],
   "source": [
    "'''1. Functions are often used to validate input. Write a function that\n",
    "accepts a single integer as a parameter and returns True if the integer is\n",
    "in the range 0 to 100 (inclusive), or False otherwise. Write a short \n",
    "program to test the function.'''\n",
    "\n",
    "def validate_integer(number):\n",
    "    return 0<=number<=100\n",
    "num = int(input(\"Enter an integer:\"))\n",
    "print(f\"The number {num} is {validate_integer(num)} in the range 0 to 100.\")"
   ]
  },
  {
   "cell_type": "code",
   "execution_count": 12,
   "id": "08725d83-a158-43da-a635-099c62787532",
   "metadata": {},
   "outputs": [
    {
     "name": "stdin",
     "output_type": "stream",
     "text": [
      "Enter a string:  DanIellE\n"
     ]
    },
    {
     "name": "stdout",
     "output_type": "stream",
     "text": [
      "Uppercase: 3 and Lowercase: 5\n"
     ]
    }
   ],
   "source": [
    "'''2. Write a function that has a single string as its parameter, and returns\n",
    "the number of uppercase letters, and the number of lowercase letters in the\n",
    "string. Test the function with a short program.'''\n",
    "\n",
    "def count_case(s):\n",
    "    uppercase = 0\n",
    "    lowercase = 0\n",
    "\n",
    "    for n in s:\n",
    "        if n.isupper():  \n",
    "            uppercase += 1\n",
    "        elif n.islower():  \n",
    "            lowercase += 1\n",
    "    return uppercase, lowercase\n",
    "\n",
    "input_string = input(\"Enter a string: \")\n",
    "uppercase, lowercase = count_case(input_string)\n",
    "print(f\"Uppercase: {uppercase} and Lowercase: {lowercase}\")\n"
   ]
  },
  {
   "cell_type": "code",
   "execution_count": 16,
   "id": "259de896-d6dd-48eb-b310-cb9d7bc21307",
   "metadata": {},
   "outputs": [
    {
     "name": "stdin",
     "output_type": "stream",
     "text": [
      "Enter your name:  aDeLine\n"
     ]
    },
    {
     "name": "stdout",
     "output_type": "stream",
     "text": [
      "Adeline\n"
     ]
    }
   ],
   "source": [
    "'''3. Modify your \"greetings\" program so that the first letter of the name\n",
    "entered is always in uppercase with the rest in lowercase. This should \n",
    "happen even if the user entered their name differently. So if the user entered \n",
    "arthur, ARTHUR, or even arTHur the name should be displayed as Arthur.'''\n",
    "\n",
    "def Corrector():\n",
    "    name = input(\"Enter your name: \")\n",
    "    corrected_name = name[0].upper() + name[1:].lower()\n",
    "    print(corrected_name)\n",
    "\n",
    "Corrector() "
   ]
  },
  {
   "cell_type": "code",
   "execution_count": 17,
   "id": "c41d1841-395b-4bca-a7b7-5e1e90fafa27",
   "metadata": {},
   "outputs": [
    {
     "name": "stdin",
     "output_type": "stream",
     "text": [
      "Enter a string:  nicee\n"
     ]
    },
    {
     "name": "stdout",
     "output_type": "stream",
     "text": [
      "nice\n"
     ]
    }
   ],
   "source": [
    "'''4. When processing data it is often useful to remove the last character \n",
    "from some input (it is often a newline). Write and test a function that takes\n",
    "a string parameter and returns it with the last character removed. (If the \n",
    "string contains one or fewer characters, return it unchanged.)'''\n",
    "\n",
    "def last_char(word):\n",
    "    return word[:-1] if len(word)>1 else word\n",
    "\n",
    "string_input = input(\"Enter a string: \")\n",
    "result = last_char(string_input)\n",
    "print(result)"
   ]
  },
  {
   "cell_type": "code",
   "execution_count": 29,
   "id": "8b54783e-6c4d-43e6-96ec-9be9f8ece060",
   "metadata": {},
   "outputs": [
    {
     "name": "stdin",
     "output_type": "stream",
     "text": [
      "Enter the temperature in Celsius:  25\n",
      "Enter the temperature in Farhenheit:  99\n"
     ]
    },
    {
     "name": "stdout",
     "output_type": "stream",
     "text": [
      "The 25.0C converts to 77.00F.\n",
      "The 99.0F converts to 37.22C.\n"
     ]
    }
   ],
   "source": [
    "'''5. Write and test a function that converts a temperature measured in \n",
    "degrees centigrade into the equivalent in fahrenheit, and another that does\n",
    "the reverse conversion. Test both functions. (Google will find you the\n",
    "formulae).'''\n",
    "\n",
    "def celsius_to_farhenheit(celcius):\n",
    "    return (celsius * 9/5)+32\n",
    "    \n",
    "def farhenheit_to_celsius(farhenheit):\n",
    "    return (farhenheit-32)*5/9\n",
    "\n",
    "celsius = float(input(\"Enter the temperature in Celsius: \"))   \n",
    "farhenheit_temp = celsius_to_farhenheit(celsius)\n",
    "\n",
    "farhenheit = float(input(\"Enter the temperature in Farhenheit: \"))\n",
    "celsius_temp = farhenheit_to_celsius(farhenheit)\n",
    "\n",
    "print(f\"The {celsius}C converts to {farhenheit_temp:.2f}F.\")\n",
    "print(f\"The {farhenheit}F converts to {celsius_temp:.2f}C.\")"
   ]
  },
  {
   "cell_type": "code",
   "execution_count": 16,
   "id": "d9e00783-3c3d-4af8-bb27-84d490bac5ea",
   "metadata": {},
   "outputs": [
    {
     "name": "stdin",
     "output_type": "stream",
     "text": [
      "Enter the temperature followed by a letter C:  25c\n"
     ]
    },
    {
     "name": "stdout",
     "output_type": "stream",
     "text": [
      "The equivanlent of 25.0C is 77.00F.\n"
     ]
    }
   ],
   "source": [
    "'''6. Write a program that takes a centigrade temperature and displays the \n",
    "equivalent in fahrenheit. The input should be a number followed by a letter \n",
    "C. The output should be in the same format.'''\n",
    "\n",
    "def celsius_to_farhenheit(temp):\n",
    "    return (temp*9/5)+32\n",
    "    \n",
    "temperature = input(\"Enter the temperature followed by a letter C: \")\n",
    "\n",
    "temp_value = float(temperature[:-1])\n",
    "unit = temperature[-1].upper()\n",
    "\n",
    "if unit == \"C\":\n",
    "    farhenheit_temp = celsius_to_farhenheit(temp_value)\n",
    "    print(f\"The equivanlent of {temp_value}{unit} is {farhenheit_temp:.2f}F.\")\n",
    "else:\n",
    "    print(\"Please enter the temperature with 'C' as the unit.\")"
   ]
  },
  {
   "cell_type": "code",
   "execution_count": 25,
   "id": "c793dcd4-213b-47f2-9f0f-7922710d2d33",
   "metadata": {},
   "outputs": [
    {
     "name": "stdin",
     "output_type": "stream",
     "text": [
      "Enter temperature 1:  22.3C\n",
      "Enter temperature 2:  19C\n",
      "Enter temperature 3:  33C\n",
      "Enter temperature 4:  28C\n",
      "Enter temperature 5:  40C\n",
      "Enter temperature 6:  30C\n"
     ]
    },
    {
     "name": "stdout",
     "output_type": "stream",
     "text": [
      "Maximum temperature: 104.00F\n",
      "Minimum temperature: 66.20F\n",
      "Mean temperature: 83.69F\n"
     ]
    }
   ],
   "source": [
    "'''7. Write a program that reads 6 temperatures (in the same format as \n",
    "before), and displays the maximum, minimum, and mean of the values.\n",
    "Hint: You should know there are built-in functions for max and min. If you\n",
    "hunt, you might also find one for the mean.'''\n",
    "\n",
    "def celsius_to_farhenheit(temp):\n",
    "    return (temp * 9/5) + 32\n",
    "\n",
    "stored_temperatures = []\n",
    "\n",
    "for i in range(6):\n",
    "    temperature = input(f\"Enter temperature {i+1}: \") \n",
    "    type_change = float(temperature[:-1])\n",
    "   \n",
    "    if temperature[-1].upper() == \"C\":\n",
    "        fahrenheit_temp = celsius_to_farhenheit(type_change)  \n",
    "        stored_temperatures.append(fahrenheit_temp) \n",
    "    else:\n",
    "        print(\"Please enter the temperature with 'C' as the unit.\")\n",
    "\n",
    "max_temp = max(stored_temperatures)\n",
    "min_temp = min(stored_temperatures)\n",
    "mean_temp = sum(stored_temperatures) / len(stored_temperatures)\n",
    "\n",
    "print(f\"Maximum temperature: {max_temp:.2f}F\")\n",
    "print(f\"Minimum temperature: {min_temp:.2f}F\")\n",
    "print(f\"Mean temperature: {mean_temp:.2f}F\")\n"
   ]
  },
  {
   "cell_type": "code",
   "execution_count": 32,
   "id": "96266058-8f4f-4316-b69b-a594d54c9737",
   "metadata": {},
   "outputs": [
    {
     "name": "stdin",
     "output_type": "stream",
     "text": [
      "Enter temperature or press 'Enter' to finish:  20C\n",
      "Enter temperature or press 'Enter' to finish:  19.9C\n",
      "Enter temperature or press 'Enter' to finish:  25C\n",
      "Enter temperature or press 'Enter' to finish:  40C\n",
      "Enter temperature or press 'Enter' to finish:  \n"
     ]
    },
    {
     "name": "stdout",
     "output_type": "stream",
     "text": [
      "Maximum temperature: 104.00F\n",
      "Minimum temperature: 67.82F\n",
      "Mean temperature: 79.20F\n"
     ]
    }
   ],
   "source": [
    "'''8. Modify the previous program so that it can process any number of \n",
    "values. The input terminates when the user just pressed \"Enter\" at the \n",
    "prompt rather than entering a value.'''\n",
    "\n",
    "def celsius_to_farhenheit(temp):\n",
    "    return (temp * 9/5) + 32\n",
    "\n",
    "stored_temperatures = []\n",
    "\n",
    "while True:\n",
    "    temperature = input(f\"Enter temperature or press 'Enter' to finish: \")\n",
    "    if temperature == \"\":\n",
    "        break\n",
    "        \n",
    "    if temperature[-1].upper() == \"C\":\n",
    "        type_change = float(temperature[:-1])\n",
    "        fahrenheit_temp = celsius_to_farhenheit(type_change)  \n",
    "        stored_temperatures.append(fahrenheit_temp) \n",
    "    else:\n",
    "        print(\"Please enter the temperature with 'C' as the unit.\")\n",
    "\n",
    "\n",
    "if stored_temperatures:\n",
    "    max_temp = max(stored_temperatures)\n",
    "    min_temp = min(stored_temperatures)\n",
    "    mean_temp = sum(stored_temperatures) / len(stored_temperatures)\n",
    "\n",
    "    print(f\"Maximum temperature: {max_temp:.2f}F\")\n",
    "    print(f\"Minimum temperature: {min_temp:.2f}F\")\n",
    "    print(f\"Mean temperature: {mean_temp:.2f}F\")\n",
    "else:\n",
    "    print(\"Program terminated.\")"
   ]
  }
 ],
 "metadata": {
  "kernelspec": {
   "display_name": "Python 3 (ipykernel)",
   "language": "python",
   "name": "python3"
  },
  "language_info": {
   "codemirror_mode": {
    "name": "ipython",
    "version": 3
   },
   "file_extension": ".py",
   "mimetype": "text/x-python",
   "name": "python",
   "nbconvert_exporter": "python",
   "pygments_lexer": "ipython3",
   "version": "3.13.0"
  }
 },
 "nbformat": 4,
 "nbformat_minor": 5
}
