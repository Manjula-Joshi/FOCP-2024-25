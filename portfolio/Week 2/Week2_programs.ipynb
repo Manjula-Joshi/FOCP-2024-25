{
 "cells": [
  {
   "cell_type": "code",
   "execution_count": 3,
   "id": "ebac3c19-3a02-4c05-bd3a-203aa49c9b96",
   "metadata": {},
   "outputs": [
    {
     "name": "stdin",
     "output_type": "stream",
     "text": [
      "Hello, what is your name? Apricort\n"
     ]
    },
    {
     "name": "stdout",
     "output_type": "stream",
     "text": [
      "Hello, Apricort. Good to meet you!\n"
     ]
    }
   ],
   "source": [
    "'''1. Last week you wrote a program that printed out a cheery greeting \n",
    "including your name. Take a copy of it, and modify it so that the user \n",
    "enters their name at the keyboard, and then receives a greeting.\n",
    "For example:\n",
    "Hello, what is your name? Mr Apricot\n",
    "Hello, Mr Apricot. Good to meet you!'''\n",
    "\n",
    "name = input(\"Hello, what is your name?\")\n",
    "print (f\"Hello, {name}. Good to meet you!\")     "
   ]
  },
  {
   "cell_type": "code",
   "execution_count": 8,
   "id": "09136ca6-b2c8-4735-93a7-df49c4070ca2",
   "metadata": {},
   "outputs": [
    {
     "name": "stdin",
     "output_type": "stream",
     "text": [
      "Enter a temperature in Celsius: 32.5\n"
     ]
    },
    {
     "name": "stdout",
     "output_type": "stream",
     "text": [
      "32.5C is equivalent to 90.5F.\n"
     ]
    }
   ],
   "source": [
    "'''2. Write a program that prompts a user to enter a temperature in Celsius, \n",
    "and then displays the corresponding temperature in Fahrenheit, like so:\n",
    " Enter a temperature in Celsius: 32.5\n",
    " 32.5C is equivalent to 90.5F'''\n",
    "temperature = float(input(\"Enter a temperature in Celsius:\"))\n",
    "fahrenheit = (temperature*9/5)+32                   \n",
    "print (f\"{temperature}C is equivalent to {fahrenheit}F.\")                    "
   ]
  },
  {
   "cell_type": "code",
   "execution_count": 7,
   "id": "9d81d34d-efb8-40ed-b5cd-3119b80370cd",
   "metadata": {},
   "outputs": [
    {
     "name": "stdin",
     "output_type": "stream",
     "text": [
      "How many student? 113\n",
      "Required group size? 22\n"
     ]
    },
    {
     "name": "stdout",
     "output_type": "stream",
     "text": [
      "There will be 5 groups with 3 left over.\n"
     ]
    }
   ],
   "source": [
    "'''3. The Head of Computing at the University of Poppleton is tasked with \n",
    "dividing a group of students into lab groups. A lab group is usually 24 \n",
    "students, but this is sometimes varied to create groups of similar size.\n",
    "Write a program that prompts for the number of students and group size, and\n",
    "then displays how many groups will be needed and how many will be left over \n",
    "in a smaller group.\n",
    "How many students? 113\n",
    "Required group size? 22\n",
    "There will be 5 groups with 3 students left over.\n",
    "For bonus credit, see if you can fix the grammar in the output. So if there\n",
    "were 101 students in groups of 20 the output would be:\n",
    "There will be 5 groups with 1 student left over.'''\n",
    "\n",
    "students = int(input(\"How many student?\"))\n",
    "group_size = int(input(\"Required group size?\"))\n",
    "\n",
    "group_num = int(students / group_size)\n",
    "leftovers = students % group_size\n",
    "print (f\"There will be {group_num} groups with {leftovers} left over.\")\n"
   ]
  },
  {
   "cell_type": "code",
   "execution_count": 6,
   "id": "3e28b4db-54c9-4854-8efb-c1171c9a4f4e",
   "metadata": {
    "editable": true,
    "slideshow": {
     "slide_type": ""
    },
    "tags": []
   },
   "outputs": [
    {
     "name": "stdin",
     "output_type": "stream",
     "text": [
      "Enter the total sweet count: 200\n",
      "Enter the total pupils: 30\n"
     ]
    },
    {
     "name": "stdout",
     "output_type": "stream",
     "text": [
      "Give 6 sweets to each pupil, and you will have20 left over.\n"
     ]
    }
   ],
   "source": [
    "'''4. A kindly teacher wishes to distribute a tub of sweets between her\n",
    "pupils. She will first count the sweets and then divide them according to\n",
    "how many pupils attend that day. Write a program that will tell the teacher\n",
    "how many sweets to give to each pupil, and how many she will have left over.'''\n",
    "sweets = int(input(\"Enter the total sweet count:\"))\n",
    "pupils = int(input(\"Enter the total pupils:\"))\n",
    "\n",
    "sweetsperpupil = int(sweets / pupils)\n",
    "leftover = int(sweets % pupils)\n",
    "\n",
    "print(f\"Give {sweetsperpupil} sweets to each pupil, and you will have{leftover} left over.\")"
   ]
  }
 ],
 "metadata": {
  "kernelspec": {
   "display_name": "Python 3 (ipykernel)",
   "language": "python",
   "name": "python3"
  },
  "language_info": {
   "codemirror_mode": {
    "name": "ipython",
    "version": 3
   },
   "file_extension": ".py",
   "mimetype": "text/x-python",
   "name": "python",
   "nbconvert_exporter": "python",
   "pygments_lexer": "ipython3",
   "version": "3.13.0"
  }
 },
 "nbformat": 4,
 "nbformat_minor": 5
}
