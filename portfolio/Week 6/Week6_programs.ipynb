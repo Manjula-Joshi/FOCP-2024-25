{
 "cells": [
  {
   "cell_type": "code",
   "execution_count": 7,
   "id": "42248a9d-daeb-4565-a095-28887ebff81f",
   "metadata": {},
   "outputs": [
    {
     "name": "stdin",
     "output_type": "stream",
     "text": [
      "Enter a positive integer:  98\n"
     ]
    },
    {
     "name": "stdout",
     "output_type": "stream",
     "text": [
      "The binary representation of 98 is: 1100010\n"
     ]
    }
   ],
   "source": [
    "'''1. Write a function that accepts a positive integer as a parameter and then \n",
    "returns a representation of that number in binary (base 2).\n",
    "Hint: This is in many ways a trick question. Think!'''\n",
    "\n",
    "def binary(n):\n",
    "    if n <= 0:\n",
    "        return \"Input must be a positive integer\"\n",
    "    \n",
    "    binary_rep = \"\"\n",
    "    while n > 0:\n",
    "        binary_rep = str(n % 2) + binary_rep\n",
    "        n = n // 2\n",
    "        \n",
    "    return binary_rep\n",
    "\n",
    "\n",
    "user_input = int(input(\"Enter a positive integer: \")) \n",
    "\n",
    "print(f\"The binary representation of {user_input} is: {binary(user_input)}\")\n",
    "\n",
    "\n"
   ]
  },
  {
   "cell_type": "code",
   "execution_count": 6,
   "id": "b2d201ef-55dc-41b1-b561-ca6ba9ffc471",
   "metadata": {},
   "outputs": [
    {
     "name": "stdin",
     "output_type": "stream",
     "text": [
      "Enter an integer: 30\n"
     ]
    },
    {
     "name": "stdout",
     "output_type": "stream",
     "text": [
      "The factors of 30 are:\n",
      "1\n",
      "2\n",
      "3\n",
      "5\n",
      "6\n",
      "10\n",
      "15\n",
      "30\n"
     ]
    }
   ],
   "source": [
    "'''2. Write and test a function that takes an integer as its parameter and returns\n",
    "the factors of that integer. (A factor is an integer which can be multiplied by \n",
    "another to yield the original).'''\n",
    "\n",
    "def factors(n):\n",
    "    print(f\"The factors of {n} are:\")\n",
    "    for i in range(1, n + 1):\n",
    "        if n % i == 0:\n",
    "            print(i)\n",
    "\n",
    "user_input=int(input(\"Enter an integer:\"))\n",
    "factors(user_input)"
   ]
  },
  {
   "cell_type": "code",
   "execution_count": 9,
   "id": "bfa744a6-e633-4c68-a820-fb649ad1b9c7",
   "metadata": {},
   "outputs": [
    {
     "name": "stdin",
     "output_type": "stream",
     "text": [
      "Enter an integer: 7\n"
     ]
    },
    {
     "name": "stdout",
     "output_type": "stream",
     "text": [
      "7 is a prime number.\n"
     ]
    }
   ],
   "source": [
    "'''3. Write and test a function that determines if a given integer is a prime \n",
    "number. A prime number is an integer greater than 1 that cannot be produced by \n",
    "multiplying two other integers.'''\n",
    "\n",
    "def prime(n):\n",
    "    if n<=0:\n",
    "        print(n, \"is not a prime number.\")\n",
    "        return\n",
    "\n",
    "    for i in range(2,n):\n",
    "        if n % i == 0:\n",
    "            print(n, \"is not a prime number.\")\n",
    "            return\n",
    "    print(n, \"is a prime number.\")\n",
    "\n",
    "user_input = int(input(\"Enter an integer:\"))\n",
    "\n",
    "prime(user_input)"
   ]
  },
  {
   "cell_type": "code",
   "execution_count": 10,
   "id": "b0d323bc-1bf8-4881-ad8f-209ecb0864ac",
   "metadata": {},
   "outputs": [
    {
     "name": "stdin",
     "output_type": "stream",
     "text": [
      "Enter a message to encrypt:  This is week 6 program.\n"
     ]
    },
    {
     "name": "stdout",
     "output_type": "stream",
     "text": [
      "Encrypted message: .margorp6keewsisihT\n"
     ]
    }
   ],
   "source": [
    "'''4. Computers are commonly used in encryption. A very simple form of encryption \n",
    "(more accurately \"obfuscation\") would be to remove the spaces from a message and \n",
    "reverse the resulting string. Write, and test, a function that takes a string \n",
    "containing a message and \"encrypts\" it in this way.'''\n",
    "\n",
    "def encrypt_message(message):\n",
    "    no_spaces = message.replace(\" \", \"\")\n",
    "\n",
    "    reversed_message = \"\"\n",
    "    for char in no_spaces:\n",
    "        reversed_message = char + reversed_message\n",
    "    \n",
    "    return reversed_message\n",
    "\n",
    "user_input = input(\"Enter a message to encrypt: \")\n",
    "\n",
    "print(\"Encrypted message:\", encrypt_message(user_input))\n"
   ]
  },
  {
   "cell_type": "code",
   "execution_count": 7,
   "id": "acf40fc2-9718-4b09-acaf-0792f742f69f",
   "metadata": {},
   "outputs": [
    {
     "name": "stdin",
     "output_type": "stream",
     "text": [
      "Enter your message to encrypt:  send cheese\n"
     ]
    },
    {
     "name": "stdout",
     "output_type": "stream",
     "text": [
      "Encrypted message:  svejnbdycfhzeieasoez\n",
      "Interval used:  2\n"
     ]
    }
   ],
   "source": [
    "'''5. Another way to hide a message is to include the letters that make it up \n",
    "within seemingly random text. The letters of the message might be every fifth \n",
    "character, for example. Write and test a function that does such encryption. It \n",
    "should randomly generate an interval (between 2 and 20), space the message out \n",
    "accordingly, and should fill the gaps with random letters. The function should \n",
    "return the encrypted message and the interval used.\n",
    "For example, if the message is \"send cheese\", the random interval is 2, and for \n",
    "clarity the random letters are not random:\n",
    "send cheese\n",
    "sendcheese\n",
    "sxyexynxydxy cxyhxyexyexysxye'''\n",
    "\n",
    "import random\n",
    "import string\n",
    "\n",
    "def encrypt_message(message):\n",
    "    message = message.replace(\" \", \"\")\n",
    "    interval = random.randint(2, 20)\n",
    "    \n",
    "    encrypted_message = \"\"\n",
    "\n",
    "    for letter in message:\n",
    "        encrypted_message += letter\n",
    "\n",
    "        for i in range(interval - 1):\n",
    "            encrypted_message += random.choice(string.ascii_lowercase)\n",
    "\n",
    "    return encrypted_message, interval\n",
    "\n",
    "user_message = input(\"Enter your message to encrypt: \")\n",
    "\n",
    "encrypted_message, interval = encrypt_message(user_message)\n",
    "\n",
    "print(\"Encrypted message: \", encrypted_message)\n",
    "print(\"Interval used: \", interval)"
   ]
  },
  {
   "cell_type": "code",
   "execution_count": 11,
   "id": "82db386f-8425-441d-92c1-82d14c6d08d5",
   "metadata": {},
   "outputs": [
    {
     "name": "stdin",
     "output_type": "stream",
     "text": [
      "Enter the encrypted message:  svejnbdycfhzeieasoez\n",
      "Enter the interval used for encryption:  2\n"
     ]
    },
    {
     "name": "stdout",
     "output_type": "stream",
     "text": [
      "The decrypted message is sendcheese.\n"
     ]
    }
   ],
   "source": [
    "'''6. Write a program that decrypts messages encoded as above.'''\n",
    "\n",
    "import random\n",
    "import string\n",
    "\n",
    "def decrypt_message(encrypted_message, interval):\n",
    "    decrypted_message = \"\"\n",
    "\n",
    "    for i in range(0, len(encrypted_message), interval):\n",
    "        decrypted_message += encrypted_message[i]\n",
    "\n",
    "    return decrypted_message\n",
    "\n",
    "encrypted_message = input(\"Enter the encrypted message: \")\n",
    "interval = int(input(\"Enter the interval used for encryption: \"))\n",
    "\n",
    "original_message = decrypt_message(encrypted_message, interval)\n",
    "\n",
    "print(f\"The decrypted message is {original_message}.\")"
   ]
  }
 ],
 "metadata": {
  "kernelspec": {
   "display_name": "Python 3 (ipykernel)",
   "language": "python",
   "name": "python3"
  },
  "language_info": {
   "codemirror_mode": {
    "name": "ipython",
    "version": 3
   },
   "file_extension": ".py",
   "mimetype": "text/x-python",
   "name": "python",
   "nbconvert_exporter": "python",
   "pygments_lexer": "ipython3",
   "version": "3.13.0"
  }
 },
 "nbformat": 4,
 "nbformat_minor": 5
}
