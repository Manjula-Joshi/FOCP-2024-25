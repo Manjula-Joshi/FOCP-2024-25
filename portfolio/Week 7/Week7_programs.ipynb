{
 "cells": [
  {
   "cell_type": "code",
   "execution_count": 12,
   "id": "8ac71631-5bc4-45b8-8c56-9e7f44da4fd0",
   "metadata": {},
   "outputs": [
    {
     "name": "stdin",
     "output_type": "stream",
     "text": [
      "Enter a word:  tangerine\n"
     ]
    },
    {
     "name": "stdout",
     "output_type": "stream",
     "text": [
      "Unique sorted letters: ['a', 'e', 'g', 'i', 'n', 'r', 't']\n"
     ]
    }
   ],
   "source": [
    "'''1. Write and test a function that takes a string as a parameter and returns a \n",
    "sorted list of all the unique letters used in the string. So, if the string is \n",
    "cheese, the list returned should be['c', 'e', 'h', 's'].'''\n",
    "\n",
    "def unique_letters(word):\n",
    "    return list(sorted(set(word)))\n",
    "\n",
    "def main():\n",
    "    word = input(\"Enter a word: \")\n",
    "    result = unique_letters(word)\n",
    "    print(f\"Unique sorted letters: {result}\")\n",
    "\n",
    "main()"
   ]
  },
  {
   "cell_type": "code",
   "execution_count": 17,
   "id": "f1dd83c9-da8a-4eee-b994-c15f65572a14",
   "metadata": {},
   "outputs": [
    {
     "name": "stdout",
     "output_type": "stream",
     "text": [
      "Letters that appear in at least one of the two words: ['c', 'h', 'i', 'k', 's', 't', 'w']\n",
      "Letters that appear in both words: ['c', 'i', 's', 't']\n",
      "Letters that appear in either word, but not in both: ['h', 'k', 'w']\n"
     ]
    }
   ],
   "source": [
    "'''2. Write and test three functions that each take two words (strings) as \n",
    "parameters and return sorted lists (as defined above) representing respectively:\n",
    "Letters that appear in at least one of the two words. \n",
    "Letters that appear in both words.\n",
    "Letters that appear in either word, but not in both.\n",
    "Hint: These could all be done programmatically, but consider carefully what topic \n",
    "we have been discussing this week! Each function can be exactly one line.'''\n",
    "\n",
    "def union(w1, w2):\n",
    "    return list(sorted(set(w1) | set(w2)))\n",
    "\n",
    "def intersection(w1, w2):\n",
    "    return list(sorted(set(w1) & set(w2)))\n",
    "\n",
    "def symmetric_difference(w1, w2):\n",
    "    return list(sorted(set(w1) ^ set(w2)))\n",
    "\n",
    "def main():\n",
    "    w1 = \"switch\"\n",
    "    w2 = \"stick\"\n",
    "\n",
    "    print(f\"Letters that appear in at least one of the two words: {union(w1, w2)}\")\n",
    "    print(f\"Letters that appear in both words: {intersection(w1, w2)}\")\n",
    "    print(f\"Letters that appear in either word, but not in both: {symmetric_difference(w1, w2)}\")\n",
    "\n",
    "main()"
   ]
  },
  {
   "cell_type": "code",
   "execution_count": 24,
   "id": "33a6e0e8-5e52-4d8a-9f19-f18d269a1548",
   "metadata": {},
   "outputs": [
    {
     "name": "stdin",
     "output_type": "stream",
     "text": [
      "Enter the country (or type 'exit' to quit):  Spain\n"
     ]
    },
    {
     "name": "stdout",
     "output_type": "stream",
     "text": [
      "The capital of Spain is madrid\n"
     ]
    },
    {
     "name": "stdin",
     "output_type": "stream",
     "text": [
      "Enter the country (or type 'exit' to quit):  brazil\n"
     ]
    },
    {
     "name": "stdout",
     "output_type": "stream",
     "text": [
      "The capital of brazil is brasilia\n"
     ]
    },
    {
     "name": "stdin",
     "output_type": "stream",
     "text": [
      "Enter the country (or type 'exit' to quit):  exit\n"
     ]
    },
    {
     "name": "stdout",
     "output_type": "stream",
     "text": [
      "Goodbye!\n"
     ]
    }
   ],
   "source": [
    "'''3. Write a program that manages a list of countries and their capital cities. \n",
    "It should prompt the user to enter the name of a country. If the program already \n",
    "\"knows\" the name of the capital city, it should display it. Otherwise it should \n",
    "ask the user to enter it. This should carry on until the user terminates the \n",
    "program (how this happens is up to you).\n",
    "Note: A good solution to this task will be able to cope with the country being \n",
    "entered variously as, for example, \"Wales\", \"wales\", \"WALES\" and so on.'''\n",
    "\n",
    "\n",
    "countries = {\n",
    "    'nepal': 'kathmandu',\n",
    "    'india': 'new delhi',\n",
    "    'france': 'paris',\n",
    "    'japan': 'tokyo',\n",
    "    'usa': 'washington dc',\n",
    "    'canada': 'ottawa',\n",
    "    'germany': 'berlin',\n",
    "    'spain': 'madrid',\n",
    "    'italy': 'rome',\n",
    "    'brazil': 'brasilia'\n",
    "}\n",
    "\n",
    "def main():\n",
    "    while True:\n",
    "        country = input(\"Enter the country (or type 'exit' to quit): \")\n",
    "        if country == 'exit':\n",
    "            print(\"Goodbye!\")\n",
    "            break\n",
    "\n",
    "        country_lower = ''\n",
    "        for char in country:\n",
    "            country_lower += char.lower()\n",
    "\n",
    "        if country_lower in countries:\n",
    "            print(f\"The capital of {country} is {countries[country_lower]}\")\n",
    "        else:\n",
    "            capital = input(\"Please enter the capital of\" + country + \":\")\n",
    "            countries[country_lower] = capital\n",
    "            print(f\"Thank you! The capital of {country} is now {capital}.\")\n",
    "\n",
    "main()         "
   ]
  },
  {
   "cell_type": "code",
   "execution_count": 5,
   "id": "4dfd4d96-1b55-4223-9c49-2de83c342cb0",
   "metadata": {},
   "outputs": [
    {
     "name": "stdin",
     "output_type": "stream",
     "text": [
      "Enter the encrypted message:  aenxysaeixsarsxpey\n"
     ]
    },
    {
     "name": "stdout",
     "output_type": "stream",
     "text": [
      "The 6 most common letters are:\n",
      "s: 3times\n",
      "x: 3times\n",
      "e: 3times\n",
      "a: 3times\n",
      "y: 2times\n",
      "p: 1times\n"
     ]
    }
   ],
   "source": [
    "'''4. One approach to analysing some encrypted data where a substitution is \n",
    "suspected is frequency analysis. A count of the different symbols in the message \n",
    "can be used to identify the language used, and sometimes some of the letters. In \n",
    "English, the most common letter is \"e\", and so the symbol representing \"e\" should \n",
    "appear most in the encrypted text.\n",
    "Write a program that processes a string representing a message and reports the six\n",
    "most common letters, along with the number of times they appear. Case should not \n",
    "matter, so \"E\" and \"e\" are considered the same.\n",
    "Hint: There are many ways to do this. It is obviously a dictionary, but we will \n",
    "want zero counts, so some initialisation is needed. Also, sorting dictionaries is \n",
    "tricky, so best to ignore that initially, and then check the usual resources for \n",
    "the runes.'''\n",
    "\n",
    "def letter_frequency():\n",
    "    message = input(\"Enter the encrypted message: \")\n",
    "    message = message.lower()\n",
    "    \n",
    "    letter_counts = {}\n",
    "    \n",
    "    for char in message:\n",
    "        if char.isalpha():  \n",
    "            if char in letter_counts:\n",
    "                letter_counts[char] += 1\n",
    "            else:\n",
    "                letter_counts[char] = 1\n",
    "\n",
    "    sorted_letters = sorted(letter_counts.items(), key=lambda x: x[1])\n",
    "    sorted_letters.reverse()\n",
    "\n",
    "    top_6 = sorted_letters[:6]\n",
    "\n",
    "    print(\"The 6 most common letters are:\")\n",
    "    for letter, count in top_6:\n",
    "        print(f\"{letter}: {count}times\")\n",
    "letter_frequency()"
   ]
  }
 ],
 "metadata": {
  "kernelspec": {
   "display_name": "Python 3 (ipykernel)",
   "language": "python",
   "name": "python3"
  },
  "language_info": {
   "codemirror_mode": {
    "name": "ipython",
    "version": 3
   },
   "file_extension": ".py",
   "mimetype": "text/x-python",
   "name": "python",
   "nbconvert_exporter": "python",
   "pygments_lexer": "ipython3",
   "version": "3.13.0"
  }
 },
 "nbformat": 4,
 "nbformat_minor": 5
}
