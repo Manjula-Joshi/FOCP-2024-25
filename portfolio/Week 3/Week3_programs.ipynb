{
 "cells": [
  {
   "cell_type": "code",
   "execution_count": 3,
   "id": "a892d667-24c0-4540-89d6-915733c6a5bf",
   "metadata": {
    "editable": true,
    "slideshow": {
     "slide_type": ""
    },
    "tags": []
   },
   "outputs": [
    {
     "name": "stdin",
     "output_type": "stream",
     "text": [
      "Hello, what is your name? \n"
     ]
    },
    {
     "name": "stdout",
     "output_type": "stream",
     "text": [
      "Hello, Stranger!\n"
     ]
    }
   ],
   "source": [
    "'''1. Modify your greeting program so that if the user does not enter a name (i.e. they just press enter), \n",
    "the program responds \"Hello, Stranger!\".Otherwise it should print a greeting with their name as before.'''\n",
    "name = input(\"Hello, what is your name?\")\n",
    "if name == \"\":\n",
    "    print(\"Hello, Stranger!\")\n",
    "else:\n",
    "    print(f\"Hello, {name}. Good to meet you!\")"
   ]
  },
  {
   "cell_type": "code",
   "execution_count": 6,
   "id": "e0a2f053-f0e4-48ea-a505-fa932a0dbe86",
   "metadata": {},
   "outputs": [
    {
     "name": "stdin",
     "output_type": "stream",
     "text": [
      "Enter your username:  Nancy\n",
      "Enter a new password:  20068\n",
      "Re-enter the password to confirm:  20068\n"
     ]
    },
    {
     "name": "stdout",
     "output_type": "stream",
     "text": [
      "Welcome, Nancy. New password has been set!\n"
     ]
    }
   ],
   "source": [
    "'''2. Write a program that simulates the way in which a user might choose a password.\n",
    "The program should prompt for a new password, and then prompt again. \n",
    "If the two passwordsenteredarethesametheprogramshouldsay\"Password Set\"or similar, \n",
    "otherwise it should report an error.'''\n",
    "user = input(\"Enter your username: \")\n",
    "password1 = input(\"Enter a new password: \")\n",
    "password2 = input(\"Re-enter the password to confirm: \")\n",
    "\n",
    "if password1 == password2:\n",
    "    print(f\"Welcome, {user}. New password has been set!\")\n",
    "else:\n",
    "    print(\"Error!\")"
   ]
  },
  {
   "cell_type": "code",
   "execution_count": 7,
   "id": "8d79ddd1-730b-4ea4-af6a-035a46be7503",
   "metadata": {},
   "outputs": [
    {
     "name": "stdin",
     "output_type": "stream",
     "text": [
      "Enter your username:  Nancy\n",
      "Enter a new password:  20068\n"
     ]
    },
    {
     "name": "stdout",
     "output_type": "stream",
     "text": [
      "Error! Password must be between 8 and 12 characters. Try again.\n"
     ]
    }
   ],
   "source": [
    "'''3. Modify your previous program so that the password must be between 8 and 12\n",
    "characters (inclusive) long.'''\n",
    "user = input(\"Enter your username: \")\n",
    "password1 = input(\"Enter a new password: \")\n",
    "\n",
    "if 8<=len(password1)<=12:\n",
    "    password2 = input(\"Re-enter the password to confirm: \")\n",
    "    if password1 == password2:\n",
    "        print(f\"Welcome, {user}. New password has been set!\")\n",
    "    else:\n",
    "        print(\"Error! Try again.\")\n",
    "else:\n",
    "    print(\"Error! Password must be between 8 and 12 characters. Try again.\")"
   ]
  },
  {
   "cell_type": "code",
   "execution_count": 4,
   "id": "51ebb9ed-1d47-4646-bd7a-252e06e90040",
   "metadata": {},
   "outputs": [
    {
     "name": "stdin",
     "output_type": "stream",
     "text": [
      "Enter your username:  Jane\n",
      "Enter your new password (Must have 8 to 12 characters):  newjane23\n",
      "Re-enter the password to confirm:  newjane23\n"
     ]
    },
    {
     "name": "stdout",
     "output_type": "stream",
     "text": [
      "Welcome, Jane. New password has been set!\n"
     ]
    }
   ],
   "source": [
    "'''4. Modify your program again so that the chosen password cannot be one of a list of\n",
    "common passwords, defined thus:\n",
    "       BAD_PASSWORDS = ['password', 'letmein', 'sesame', 'hello', 'justinbieber']'''\n",
    "\n",
    "BAD_PASSWORDS = ['password', 'letmein', 'sesame', 'hello', 'justinbieber']\n",
    "\n",
    "user= input(\"Enter your username: \")\n",
    "password1 = input(\"Enter your new password (Must have 8 to 12 characters): \")\n",
    "\n",
    "if password1 in BAD_PASSWORDS:\n",
    "    print(\"Error: Don't use a common password! Try again.\")\n",
    "elif (8<=len(password1)<= 12):\n",
    "    password2 = input(\"Re-enter the password to confirm: \")\n",
    "    if password1 == password2:\n",
    "        print(f\"Welcome, {user}. New password has been set!\")\n",
    "    else:\n",
    "        print(\"Error: Passwords do not match. Try again.\")\n",
    "else:\n",
    "    print(\"Error! Password must be between 8 and 12 characters. Try again.\")"
   ]
  },
  {
   "cell_type": "code",
   "execution_count": 16,
   "id": "3b69a886-0942-42ff-bea3-1f76406eb2e4",
   "metadata": {},
   "outputs": [
    {
     "name": "stdin",
     "output_type": "stream",
     "text": [
      "Enter your username:  Tajun\n",
      "Enter your new password (Must have 8 to 12 characters):  imta2233\n",
      "Re-enter the password to confirm:  imta2233\n"
     ]
    },
    {
     "name": "stdout",
     "output_type": "stream",
     "text": [
      "Welcome, Tajun. New password has been set!\n"
     ]
    }
   ],
   "source": [
    "'''5. Modify your program a final time so that it executes until the user\n",
    "successfully chooses a password. That is, if the password chosen fails \n",
    "any of the checks, the program should return to asking for the password\n",
    "the first time.'''\n",
    "\n",
    "BAD_PASSWORDS = ['password', 'letmein', 'sesame', 'hello', 'justinbieber']\n",
    "\n",
    "user = input(\"Enter your username: \")\n",
    "password1 = input(\"Enter your new password (Must have 8 to 12 characters): \")\n",
    "\n",
    "while password1 not in BAD_PASSWORDS and (8<=len(password1)<=12):\n",
    "    password2 = input(\"Re-enter the password to confirm: \")\n",
    "\n",
    "    if password1 == password2:\n",
    "        print(f\"Welcome, {user}. New password has been set!\")\n",
    "        break\n",
    "    else:\n",
    "        print(\"Error: Passwords do not match. Try again.\")\n",
    "        password1 = input(\"Enter your new password (Must have 8 to 12 characters): \")\n",
    "\n",
    "if not (8<=len(password1)<=12):\n",
    "    print(\"Error: Password must have 8 to 12 characters!\")\n",
    "elif password1 in BAD_PASSWORDS:\n",
    "    print(\"Error: Passwords do not match. Try again.\")\n",
    "\n"
   ]
  },
  {
   "cell_type": "code",
   "execution_count": 17,
   "id": "c8eb3eae-4496-46a4-88dc-684a8e001b7e",
   "metadata": {},
   "outputs": [
    {
     "name": "stdout",
     "output_type": "stream",
     "text": [
      "0 * 7 = 0\n",
      "1 * 7 = 7\n",
      "2 * 7 = 14\n",
      "3 * 7 = 21\n",
      "4 * 7 = 28\n",
      "5 * 7 = 35\n",
      "6 * 7 = 42\n",
      "7 * 7 = 49\n",
      "8 * 7 = 56\n",
      "9 * 7 = 63\n",
      "10 * 7 = 70\n",
      "11 * 7 = 77\n",
      "12 * 7 = 84\n"
     ]
    }
   ],
   "source": [
    "'''6. Write a program that displays the \"Seven Times Table\". That is, \n",
    "the result of multiplying 7 by every number from 0 to 12 inclusive.\n",
    "The output might start:\n",
    "0x7=0\n",
    "1x7=7\n",
    "2 x 7 = 14\n",
    "and so on.'''\n",
    "\n",
    "for num in range(13):\n",
    "    print(f\"{num} * 7 = {num*7}\")"
   ]
  },
  {
   "cell_type": "code",
   "execution_count": 15,
   "id": "0f06936e-2d3c-478c-a74f-27badea00988",
   "metadata": {},
   "outputs": [
    {
     "name": "stdin",
     "output_type": "stream",
     "text": [
      "Enter the number for times table:  12\n"
     ]
    },
    {
     "name": "stdout",
     "output_type": "stream",
     "text": [
      "Times Table for 12: \n",
      "0 * 12 = 0\n",
      "1 * 12 = 12\n",
      "2 * 12 = 24\n",
      "3 * 12 = 36\n",
      "4 * 12 = 48\n",
      "5 * 12 = 60\n",
      "6 * 12 = 72\n",
      "7 * 12 = 84\n",
      "8 * 12 = 96\n",
      "9 * 12 = 108\n",
      "10 * 12 = 120\n",
      "11 * 12 = 132\n",
      "12 * 12 = 144\n"
     ]
    }
   ],
   "source": [
    "'''7. Modify your \"Times Table\" program so that the user enters the number of the table\n",
    "they require. This number should be between 0 and 12 inclusive.'''\n",
    "\n",
    "table_num = int(input(\"Enter the number for times table: \"))\n",
    "\n",
    "if 0<=table_num<=12:\n",
    "    print(f\"Times Table for {table_num}: \")\n",
    "    for num in range(13):\n",
    "        print(f\"{num} * {table_num} = {num*table_num}\")\n",
    "else:\n",
    "    print(\"Error: Enter a number between 0 and 12\")\n",
    "        "
   ]
  },
  {
   "cell_type": "code",
   "execution_count": 4,
   "id": "9a49d3e9-7657-457e-a25d-0a0d3ec70004",
   "metadata": {},
   "outputs": [
    {
     "name": "stdin",
     "output_type": "stream",
     "text": [
      "Enter the number for times table:  -12\n"
     ]
    },
    {
     "name": "stdout",
     "output_type": "stream",
     "text": [
      "Times table for -12 (backwards): \n",
      "12 * 12 = 144\n",
      "11 * 12 = 132\n",
      "10 * 12 = 120\n",
      "9 * 12 = 108\n",
      "8 * 12 = 96\n",
      "7 * 12 = 84\n",
      "6 * 12 = 72\n",
      "5 * 12 = 60\n",
      "4 * 12 = 48\n",
      "3 * 12 = 36\n",
      "2 * 12 = 24\n",
      "1 * 12 = 12\n",
      "0 * 12 = 0\n"
     ]
    }
   ],
   "source": [
    "'''8. Modify the \"Times Table\" again so that the user still enters the\n",
    "number of the table, but if this number is negative the table is printed backwards.\n",
    "So entering \"-7\" would produce the Seven Times Table starting at \"12 times\"\n",
    "down to \"0 times\".'''\n",
    "\n",
    "table_num = int(input(\"Enter the number for times table: \"))\n",
    "\n",
    "if table_num<0:\n",
    "    table_num = -table_num\n",
    "    print(f\"Times table for -{table_num} (backwards): \")\n",
    "    for num in range(12,-1,-1):\n",
    "        print(f\"{num} * {table_num} = {num*table_num}\")\n",
    "elif 0 <= table_num <= 12:\n",
    "    print(f\"Times table for {table_num}: \")\n",
    "    for num in range(13):\n",
    "        print(f\"{num} * {table_num} = {num*table_num}\")\n",
    "else:\n",
    "    print(\"Error: enter a number between -12 and 12.\")"
   ]
  }
 ],
 "metadata": {
  "kernelspec": {
   "display_name": "Python 3 (ipykernel)",
   "language": "python",
   "name": "python3"
  },
  "language_info": {
   "codemirror_mode": {
    "name": "ipython",
    "version": 3
   },
   "file_extension": ".py",
   "mimetype": "text/x-python",
   "name": "python",
   "nbconvert_exporter": "python",
   "pygments_lexer": "ipython3",
   "version": "3.13.0"
  }
 },
 "nbformat": 4,
 "nbformat_minor": 5
}
